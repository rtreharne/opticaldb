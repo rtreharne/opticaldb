{
 "cells": [
  {
   "cell_type": "markdown",
   "metadata": {},
   "source": [
    "<h1>Traml Slider for Sputtered CdTe Films.</h1>\n",
    "<h3>Single film of CdTe on OptiWhite substrate</h3>\n",
    "<p><ul>\n",
    "  <li>Power: 60 W</li>\n",
    "  <li>Pressure: 5 mTorr</li>\n",
    "  <li>Temp : 150 degC</li>\n",
    "  <li>Time: 30 min</li>\n",
    "  <li>Rotation: On</li>\n",
    "</ul></p>\n"
   ]
  },
  {
   "cell_type": "code",
   "execution_count": 2,
   "metadata": {
    "collapsed": false
   },
   "outputs": [
    {
     "name": "stdout",
     "output_type": "stream",
     "text": [
      "Populating the interactive namespace from numpy and matplotlib\n"
     ]
    }
   ],
   "source": [
    "%pylab inline\n",
    "import os, sys\n",
    "sys.path.append(\"../\")\n",
    "import traml #TMM script\n",
    "import db\n",
    "import csv\n",
    "import datarip\n"
   ]
  },
  {
   "cell_type": "code",
   "execution_count": 3,
   "metadata": {
    "collapsed": false
   },
   "outputs": [],
   "source": [
    "a = traml.Stack() #create new stack object, default SLG substrate"
   ]
  },
  {
   "cell_type": "code",
   "execution_count": 4,
   "metadata": {
    "collapsed": false
   },
   "outputs": [
    {
     "name": "stdout",
     "output_type": "stream",
     "text": [
      "|     ID | SHELF   | BOOK   | PAGE        | DESCRIPTION                    |\n",
      "|--------+---------+--------+-------------+--------------------------------|\n",
      "| 116901 | main    | CdTe   | DeBell-300K | DeBell et al. 1979: n 6-22 µm; |\n",
      "| 116902 | main    | CdTe   | DeBell-80K  | DeBell et al. 1979: n 6-22 µm; |\n",
      "| 116903 | main    | CdTe   | DeBell-20K  | DeBell et al. 1979: n 6-22 µm; |\n",
      "| 116904 | main    | CdTe   | Marple      | Marple 1964: n 0.86-2.5 µm     |\n",
      "| 116905 | main    | CdTe   | Treharne    | Treharne et al. 2011: Thin fil |\n"
     ]
    }
   ],
   "source": [
    "a.library.search('CdTe') #search for a ZnO film as an example"
   ]
  },
  {
   "cell_type": "code",
   "execution_count": 5,
   "metadata": {
    "collapsed": false
   },
   "outputs": [
    {
     "name": "stdout",
     "output_type": "stream",
     "text": [
      "|   # |     ID | Material   | Thickness (nm)   | Type      |\n",
      "|-----+--------+------------+------------------+-----------|\n",
      "|   0 | 301005 | soda-lime  | --               | substrate |\n",
      "|   1 | 116905 | CdTe       | 100              | passive   |\n"
     ]
    }
   ],
   "source": [
    "a.add(116905)\n",
    "a.table()"
   ]
  },
  {
   "cell_type": "code",
   "execution_count": 6,
   "metadata": {
    "collapsed": false
   },
   "outputs": [],
   "source": [
    "data = datarip.data_dict('CdTe_1.csv')"
   ]
  },
  {
   "cell_type": "code",
   "execution_count": 18,
   "metadata": {
    "collapsed": false
   },
   "outputs": [],
   "source": [
    "def getTR(stack):\n",
    "    '''Get T and R for stack'''\n",
    "    T = stack.get_T()\n",
    "    R = stack.get_R()\n",
    "    x = stack.x\n",
    "    return x, real(T), real(R)"
   ]
  },
  {
   "cell_type": "code",
   "execution_count": 43,
   "metadata": {
    "collapsed": false
   },
   "outputs": [],
   "source": [
    "def plot(d):\n",
    "    '''Plot T and R for a stack with a single film of thickness d'''\n",
    "    \n",
    "    fig = figure(figsize(9,7))\n",
    "    ax = fig.add_subplot(111)\n",
    "    \n",
    "    stack = a\n",
    "    stack.d(1, d) #change layer 1 thickness\n",
    "    x, T, R = getTR(a)\n",
    "    \n",
    "    x_data = array(data.get('data', None)[0])/1000\n",
    "    y_data = array(data.get('data'), None)[1]/100\n",
    "    \n",
    "    ax.plot(x, T, color='red', linewidth=3)\n",
    "    #ax.plot(x, R, color='blue', linewidth=3)\n",
    "    ax.plot(x_data, y_data, 'o', markevery=10)\n",
    "    ax.set_xlim([min(x), max(x)])\n",
    "    ax.set_ylim([0,1])\n",
    "    ax.set_xlabel('$\\lambda$ ($\\mu$m)', fontsize=20)\n",
    "    ax.set_ylabel('T, R', fontsize=25)\n",
    "    text(0.5, 0.5, 'd = {0:.0f} nm'.format(d), fontsize=12)\n",
    "    fig.savefig('CdTe_1.jpg')\n",
    "    "
   ]
  },
  {
   "cell_type": "code",
   "execution_count": 44,
   "metadata": {
    "collapsed": false
   },
   "outputs": [
    {
     "data": {
      "image/png": "[encoded data removed]",
      "text/plain": [
       "<matplotlib.figure.Figure at 0x7ff82b032c10>"
      ]
     },
     "metadata": {},
     "output_type": "display_data"
    }
   ],
   "source": [
    "from ipywidgets import *\n",
    "d_s = FloatSlider(min=1000, max=1300, step=1, value = 0)\n",
    "interactive(plot,a=a,d=d_s)"
   ]
  },
  {
   "cell_type": "code",
   "execution_count": null,
   "metadata": {
    "collapsed": true
   },
   "outputs": [],
   "source": []
  }
 ],
 "metadata": {
  "kernelspec": {
   "display_name": "Python 2",
   "language": "python",
   "name": "python2"
  },
  "language_info": {
   "codemirror_mode": {
    "name": "ipython",
    "version": 2
   },
   "file_extension": ".py",
   "mimetype": "text/x-python",
   "name": "python",
   "nbconvert_exporter": "python",
   "pygments_lexer": "ipython2",
   "version": "2.7.12"
  },
  "widgets": {
   "state": {
    "0147540dba324bc58eb7eacd29174c4c": {
     "views": []
    },
    "0606ab3070324fd7a700efd56ddc36d6": {
     "views": []
    },
    "07b698f3ace24ae38fdbc345c996c6bc": {
     "views": []
    },
    "0a5048e10a064b94b217b12f4037a448": {
     "views": []
    },
    "0c445104f4234d5fa02b5a730fc56af5": {
     "views": []
    },
    "0e02cca700ce433cb6b9916313d5f4b6": {
     "views": []
    },
    "0ebf50d6f3af4e37adc735fe6c7ea696": {
     "views": []
    },
    "120cc48eeabf4be785dc654da35df449": {
     "views": []
    },
    "1338904b46f141c4936ef66e54e24f08": {
     "views": []
    },
    "13748b5aac1f41a685991980333becc3": {
     "views": []
    },
    "14e3dbe565684b08b7ce3dedc758de8b": {
     "views": []
    },
    "16f051f711ec47609fe9a7c4673f6df8": {
     "views": []
    },
    "1de4b663aab7469d82c79595e5cf064f": {
     "views": []
    },
    "23e5f34434a44834a0241d47bcefa580": {
     "views": []
    },
    "25103e5b03544f31919c171f8eea1e9e": {
     "views": []
    },
    "25c1e057c34c47669993ad5d6e463bde": {
     "views": []
    },
    "27d7a865d6f749dd9e7d1065542b95f6": {
     "views": []
    },
    "2c977ee3bf30402ebc24604e5db6004c": {
     "views": [
      {
       "cell_index": 8
      }
     ]
    },
    "312194f7275245cf880f6151db77f795": {
     "views": []
    },
    "35ce90879332447db8acf7638a317cd1": {
     "views": []
    },
    "37146ffeecf245b78c4dc2c1049493a4": {
     "views": []
    },
    "394e7aa09c4c41b8be833f91f648b281": {
     "views": []
    },
    "3a46344c3dbc49d89494e7fb155dafec": {
     "views": []
    },
    "3a8ca226c53c40e9baa773db43779928": {
     "views": []
    },
    "3c5b718e4ffb436ebbf3f1f0aad126c3": {
     "views": []
    },
    "3dc864a3e2944fc895578554488c47cc": {
     "views": []
    },
    "3f3f8ac0a7f8402ca7152072d21384dc": {
     "views": []
    },
    "417da7c5041a4618b8456158af8f29bc": {
     "views": []
    },
    "421f2b9f879e4d38940f46a1660465e4": {
     "views": []
    },
    "4af75334929f4b5381983292614d5c15": {
     "views": []
    },
    "4cbe5b9d059141adb4ad05b2995dbd7a": {
     "views": []
    },
    "54d5a6e31ddc4b809a5e138e9c9e12bb": {
     "views": []
    },
    "55325d81bdd941dba0fae8e4557352fb": {
     "views": []
    },
    "565771ed894949699cf87ba13d51cd97": {
     "views": []
    },
    "5c9e79209e734cd9be47061da5f61b08": {
     "views": []
    },
    "615858b8151649958bb9e9b86ed4fac4": {
     "views": []
    },
    "617bb709b8a84133a4dc1ccb9b9f7d97": {
     "views": []
    },
    "685bcbd8288440ce9df854c9e70eab8a": {
     "views": []
    },
    "6d6050162d9048ecb55dd13b55ca4c3a": {
     "views": []
    },
    "6e9d13e04b2b45f7a5aa3e9e0269d575": {
     "views": []
    },
    "6ff742c7b8664321a6410fbc5f1cc0af": {
     "views": []
    },
    "762301990f7144a9a41f39ced8627d48": {
     "views": []
    },
    "7ed7710120184c10a6026f6c9f4ae121": {
     "views": []
    },
    "7eea94effb314fa3bb7565982bd62b45": {
     "views": []
    },
    "81c5e945ed84442990ed22c97bb1cc38": {
     "views": []
    },
    "8dcb16bdc7324706b0c9506de431e582": {
     "views": []
    },
    "8e21266401c942a19ca32858723caacb": {
     "views": []
    },
    "919a39e1fcb84cc29bdaad6d3cba479c": {
     "views": []
    },
    "9270de497fb945aca5b69f51d2627cda": {
     "views": []
    },
    "a723a9e6ec574190ad4667577e6b96d6": {
     "views": []
    },
    "a8134c383f1841b3bfbdae14867728db": {
     "views": []
    },
    "acacb8637c514f02b993d7f5868a12c3": {
     "views": []
    },
    "add3403dbd504a6bb65e6cbebd6b50eb": {
     "views": []
    },
    "ae804e094aeb476694e9d32fa82463e2": {
     "views": []
    },
    "b1e0292251af4f3b836384e0e83033f8": {
     "views": []
    },
    "b337ded789f444c1bd869f4dfad5783f": {
     "views": []
    },
    "b39de7eed84448cb80d0a002f8a35e64": {
     "views": []
    },
    "b4b5e53fb4e9406298345fc0d0bd61dd": {
     "views": []
    },
    "b5012ce9b2cd478ca20670b80b56f274": {
     "views": []
    },
    "b960235c0efd48d2bbabdc1601c59f46": {
     "views": []
    },
    "baf159a98af6484383a5c6a80799f035": {
     "views": []
    },
    "becd87c3207f4261aa38877dc366eaec": {
     "views": []
    },
    "c85f5ccfb2654f01a5a89f35eb0cdf98": {
     "views": []
    },
    "c93a74d04d31431ca69db2793413ed7d": {
     "views": []
    },
    "d5e18f1e1d25449ebae3ed1d3ea6bc34": {
     "views": []
    },
    "d619c18b5885468c89de6d2b22e96d51": {
     "views": []
    },
    "d63c63c083534edcb433f39a9a7855f6": {
     "views": []
    },
    "d779ea4b6fb84ec8aafb2a874f527ee5": {
     "views": []
    },
    "d94e77bde67a4fdebdb6612e237b191a": {
     "views": []
    },
    "e2f448f9a7164ed09d3bf0c6950e1b5d": {
     "views": []
    },
    "e9f2399efaa54713a6d05447900a9890": {
     "views": []
    },
    "ef08d9f770e842939600c0c5e509ef58": {
     "views": []
    },
    "f24752f326e74e71b601db965aee6f97": {
     "views": []
    },
    "f592a3cf5f0b40c198a3ded0b3da9b92": {
     "views": []
    },
    "f59695d946aa4643b951b6c9e06afb42": {
     "views": []
    },
    "f5ba4df047cc4669a05b3d2af61c1103": {
     "views": []
    },
    "f81687eb81f749a0830c876e18816a95": {
     "views": []
    },
    "ffc7cdb0b7674cb8a49b84e68cc445bd": {
     "views": []
    }
   },
   "version": "1.1.2"
  }
 },
 "nbformat": 4,
 "nbformat_minor": 0
}
